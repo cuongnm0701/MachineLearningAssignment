{
  "nbformat": 4,
  "nbformat_minor": 0,
  "metadata": {
    "kernelspec": {
      "display_name": "Python 3",
      "language": "python",
      "name": "python3"
    },
    "language_info": {
      "codemirror_mode": {
        "name": "ipython",
        "version": 3
      },
      "file_extension": ".py",
      "mimetype": "text/x-python",
      "name": "python",
      "nbconvert_exporter": "python",
      "pygments_lexer": "ipython3",
      "version": "3.7.6"
    },
    "colab": {
      "name": "Bản sao của Weekly-Project-BBC Articles.ipynb",
      "provenance": [],
      "collapsed_sections": []
    }
  },
  "cells": [
    {
      "cell_type": "markdown",
      "metadata": {
        "id": "s8btHNo7H5Cf"
      },
      "source": [
        "# Organize ML projects with Scikit-Learn"
      ]
    },
    {
      "cell_type": "markdown",
      "metadata": {
        "id": "8yK9CuWlH5Ch"
      },
      "source": [
        "While Machine Learning is powerful, people often overestimate it: apply machine learning to your project, and all your problems will be solved. In reality, it's not this simple. To be effective, one needs to organize the work very well. In this notebook, we will walkthrough practical aspects of a ML project. To look at the big picture, let's start with a checklist below. It should work reasonably well for most ML projects, but make sure to adapt it to your needs:\n",
        "\n",
        "1. **Define the scope of work and objective**\n",
        "    * How is your solution be used?\n",
        "    * How should performance be measured? Are there any contraints?\n",
        "    * How would the problem be solved manually?\n",
        "    * List the available assumptions, and verify if possible.\n",
        "    \n",
        "    \n",
        "2. **Get the data**\n",
        "    * Document where you can get that data\n",
        "    * Store data in a workspace you can easily access\n",
        "    * Convert the data to a format you can easily manipulate\n",
        "    * Check the overview (size, type, sample, description, statistics)\n",
        "    * Data cleaning\n",
        "    \n",
        "    \n",
        "3. **EDA & Data transformation**\n",
        "    * Study each attribute and its characteristics (missing values, type of distribution, usefulness)\n",
        "    * Visualize the data\n",
        "    * Study the correlations between attributes\n",
        "    * Feature selection, Feature Engineering, Feature scaling\n",
        "    * Write functions for all data transformations\n",
        "    \n",
        "    \n",
        "4. **Train models**\n",
        "    * Automate as much as possible\n",
        "    * Train promising models quickly using standard parameters. Measure and compare their performance\n",
        "    * Analyze the errors the models make\n",
        "    * Shortlist the top three of five most promising models, preferring models that make different types of errors.\n",
        "\n",
        "\n",
        "5. **Fine-tunning**\n",
        "    * Treat data transformation choices as hyperparameters, expecially when you are not sure about them (e.g., replace missing values with zeros or with the median value)\n",
        "    * Unless there are very few hyperparameter value to explore, prefer random search over grid search.\n",
        "    * Try ensemble methods\n",
        "    * Test your final model on the test set to estimate the generalizaiton error. Don't tweak your model again, you would start overfitting the test set."
      ]
    },
    {
      "cell_type": "markdown",
      "metadata": {
        "id": "ofeuKevOH5Ch"
      },
      "source": [
        "## Example: Articles categorization"
      ]
    },
    {
      "cell_type": "markdown",
      "metadata": {
        "id": "m2NSUqUEH5Ci"
      },
      "source": [
        "### Objectives"
      ]
    },
    {
      "cell_type": "markdown",
      "metadata": {
        "id": "5GttlMG-H5Cj"
      },
      "source": [
        "Build a model to determine the categories of articles. "
      ]
    },
    {
      "cell_type": "markdown",
      "metadata": {
        "id": "EwbjWOG1H5Ck"
      },
      "source": [
        "### Get Data"
      ]
    },
    {
      "cell_type": "code",
      "metadata": {
        "id": "iWq7xex_H5Ck"
      },
      "source": [
        "import numpy as np\n",
        "import pandas as pd\n",
        "import seaborn as sns\n",
        "import matplotlib.pyplot as plt\n",
        "%matplotlib inline\n",
        "\n",
        "import warnings\n",
        "warnings.filterwarnings('ignore')\n",
        "\n",
        "sns.set_style(\"whitegrid\")"
      ],
      "execution_count": 2,
      "outputs": []
    },
    {
      "cell_type": "code",
      "metadata": {
        "id": "m9W7Hzt2H5Cp"
      },
      "source": [
        "bbc = pd.read_csv('https://raw.githubusercontent.com/dhminh1024/practice_datasets/master/bbc-text.csv')"
      ],
      "execution_count": 3,
      "outputs": []
    },
    {
      "cell_type": "code",
      "metadata": {
        "id": "teb1QvD1H5Cs",
        "outputId": "b7aa8856-5f04-4889-dfa2-b303732af1bf",
        "colab": {
          "base_uri": "https://localhost:8080/",
          "height": 198
        }
      },
      "source": [
        "bbc.sample(5)"
      ],
      "execution_count": 4,
      "outputs": [
        {
          "output_type": "execute_result",
          "data": {
            "text/html": [
              "<div>\n",
              "<style scoped>\n",
              "    .dataframe tbody tr th:only-of-type {\n",
              "        vertical-align: middle;\n",
              "    }\n",
              "\n",
              "    .dataframe tbody tr th {\n",
              "        vertical-align: top;\n",
              "    }\n",
              "\n",
              "    .dataframe thead th {\n",
              "        text-align: right;\n",
              "    }\n",
              "</style>\n",
              "<table border=\"1\" class=\"dataframe\">\n",
              "  <thead>\n",
              "    <tr style=\"text-align: right;\">\n",
              "      <th></th>\n",
              "      <th>category</th>\n",
              "      <th>text</th>\n",
              "    </tr>\n",
              "  </thead>\n",
              "  <tbody>\n",
              "    <tr>\n",
              "      <th>2026</th>\n",
              "      <td>politics</td>\n",
              "      <td>job cuts  false economy   - tuc plans to shed ...</td>\n",
              "    </tr>\n",
              "    <tr>\n",
              "      <th>240</th>\n",
              "      <td>business</td>\n",
              "      <td>retail sales show festive fervour uk retail sa...</td>\n",
              "    </tr>\n",
              "    <tr>\n",
              "      <th>1778</th>\n",
              "      <td>business</td>\n",
              "      <td>water firm suez in argentina row a conflict be...</td>\n",
              "    </tr>\n",
              "    <tr>\n",
              "      <th>1187</th>\n",
              "      <td>sport</td>\n",
              "      <td>newcastle to join morientes race newcastle hav...</td>\n",
              "    </tr>\n",
              "    <tr>\n",
              "      <th>1053</th>\n",
              "      <td>entertainment</td>\n",
              "      <td>black sabbath top rock album poll black sabbat...</td>\n",
              "    </tr>\n",
              "  </tbody>\n",
              "</table>\n",
              "</div>"
            ],
            "text/plain": [
              "           category                                               text\n",
              "2026       politics  job cuts  false economy   - tuc plans to shed ...\n",
              "240        business  retail sales show festive fervour uk retail sa...\n",
              "1778       business  water firm suez in argentina row a conflict be...\n",
              "1187          sport  newcastle to join morientes race newcastle hav...\n",
              "1053  entertainment  black sabbath top rock album poll black sabbat..."
            ]
          },
          "metadata": {
            "tags": []
          },
          "execution_count": 4
        }
      ]
    },
    {
      "cell_type": "code",
      "metadata": {
        "id": "KBW_Sg2RH5Cy",
        "outputId": "1b8ad597-75b0-4a1a-b705-ee5ca957a00d",
        "colab": {
          "base_uri": "https://localhost:8080/",
          "height": 181
        }
      },
      "source": [
        "bbc.info()"
      ],
      "execution_count": 5,
      "outputs": [
        {
          "output_type": "stream",
          "text": [
            "<class 'pandas.core.frame.DataFrame'>\n",
            "RangeIndex: 2225 entries, 0 to 2224\n",
            "Data columns (total 2 columns):\n",
            " #   Column    Non-Null Count  Dtype \n",
            "---  ------    --------------  ----- \n",
            " 0   category  2225 non-null   object\n",
            " 1   text      2225 non-null   object\n",
            "dtypes: object(2)\n",
            "memory usage: 34.9+ KB\n"
          ],
          "name": "stdout"
        }
      ]
    },
    {
      "cell_type": "code",
      "metadata": {
        "id": "dh3VRY5Zxmw6"
      },
      "source": [
        "from sklearn.model_selection import train_test_split\n",
        "\n",
        "X = bbc['text']\n",
        "y = bbc['category']\n",
        "X_train, X_test, y_train, y_test = train_test_split(X, y, test_size=0.3, random_state=42)"
      ],
      "execution_count": 6,
      "outputs": []
    },
    {
      "cell_type": "code",
      "metadata": {
        "id": "hu3hzYH33qK1"
      },
      "source": [
        "import nltk\n",
        "nltk.download('stopwords')\n",
        "from nltk.corpus import stopwords\n",
        "from nltk.stem import PorterStemmer\n",
        "import regex as re\n",
        "from sklearn.pipeline import Pipeline\n",
        "from sklearn.linear_model import LogisticRegression, LinearRegression\n",
        "from sklearn.svm import LinearSVC\n",
        "from sklearn.tree import DecisionTreeClassifier\n",
        "from sklearn.feature_extraction.text import TfidfVectorizer\n",
        "from sklearn.metrics import accuracy_score, confusion_matrix, classification_report"
      ],
      "execution_count": 35,
      "outputs": []
    },
    {
      "cell_type": "code",
      "metadata": {
        "id": "Exlk3SYk3oPt"
      },
      "source": [
        "stop_words = stopwords.words('english')\n",
        "def preprocessor(text):\n",
        "    text = (re.sub('[\\W]+', ' ', text.lower()))\n",
        "    return text\n",
        "\n",
        "porter = PorterStemmer()\n",
        "def tokenizer_porter(text):\n",
        "    return [porter.stem(word) for word in text.split()]"
      ],
      "execution_count": 15,
      "outputs": []
    },
    {
      "cell_type": "code",
      "metadata": {
        "id": "XvShOW7P6Hno"
      },
      "source": [
        "tfidf = TfidfVectorizer(stop_words = stop_words,\n",
        "                        tokenizer = tokenizer_porter,\n",
        "                        preprocessor = preprocessor)"
      ],
      "execution_count": 36,
      "outputs": []
    },
    {
      "cell_type": "code",
      "metadata": {
        "id": "Fh0p5lIc5UZH",
        "outputId": "1fa8c0c4-ad01-4416-aeb7-d34d7c0621d0",
        "colab": {
          "base_uri": "https://localhost:8080/",
          "height": 272
        }
      },
      "source": [
        "clf = Pipeline([('vect', tfidf),\n",
        "                ('clf', LogisticRegression(random_state=42))])\n",
        "clf.fit(X_train, y_train)\n",
        "predictions = clf.predict(X_test)\n",
        "print('Accuracy:', accuracy_score(y_test,predictions))\n",
        "print('Classification report:\\n', classification_report(y_test,predictions))"
      ],
      "execution_count": 39,
      "outputs": [
        {
          "output_type": "stream",
          "text": [
            "Accuracy: 0.9760479041916168\n",
            "Classification report:\n",
            "                precision    recall  f1-score   support\n",
            "\n",
            "     business       0.95      0.97      0.96       164\n",
            "entertainment       1.00      0.96      0.98       113\n",
            "     politics       0.96      0.97      0.97       113\n",
            "        sport       0.99      1.00      0.99       146\n",
            "         tech       0.98      0.97      0.98       132\n",
            "\n",
            "     accuracy                           0.98       668\n",
            "    macro avg       0.98      0.98      0.98       668\n",
            " weighted avg       0.98      0.98      0.98       668\n",
            "\n"
          ],
          "name": "stdout"
        }
      ]
    },
    {
      "cell_type": "code",
      "metadata": {
        "id": "qmA-d5is5qnS",
        "outputId": "081ce70c-526f-42c5-d508-e35bce30f528",
        "colab": {
          "base_uri": "https://localhost:8080/",
          "height": 272
        }
      },
      "source": [
        "clf = Pipeline([('vect', tfidf),\n",
        "                ('clf', LinearSVC(random_state=42))])\n",
        "clf.fit(X_train, y_train)\n",
        "predictions = clf.predict(X_test)\n",
        "print('Accuracy:', accuracy_score(y_test,predictions))\n",
        "print('Classification report:\\n', classification_report(y_test,predictions))"
      ],
      "execution_count": 50,
      "outputs": [
        {
          "output_type": "stream",
          "text": [
            "Accuracy: 0.9760479041916168\n",
            "Classification report:\n",
            "                precision    recall  f1-score   support\n",
            "\n",
            "     business       0.97      0.94      0.96       164\n",
            "entertainment       0.97      0.98      0.98       113\n",
            "     politics       0.96      0.98      0.97       113\n",
            "        sport       0.99      1.00      0.99       146\n",
            "         tech       0.98      0.98      0.98       132\n",
            "\n",
            "     accuracy                           0.98       668\n",
            "    macro avg       0.98      0.98      0.98       668\n",
            " weighted avg       0.98      0.98      0.98       668\n",
            "\n"
          ],
          "name": "stdout"
        }
      ]
    },
    {
      "cell_type": "code",
      "metadata": {
        "id": "Ii3rXjq96Ok0",
        "outputId": "95eaac9c-5592-4af0-fb44-adbf5a2965df",
        "colab": {
          "base_uri": "https://localhost:8080/",
          "height": 272
        }
      },
      "source": [
        "clf = Pipeline([('vect', tfidf),\n",
        "                ('clf', DecisionTreeClassifier())])\n",
        "clf.fit(X_train, y_train)\n",
        "predictions = clf.predict(X_test)\n",
        "print('Accuracy:', accuracy_score(y_test,predictions))\n",
        "print('Classification report:\\n', classification_report(y_test,predictions))"
      ],
      "execution_count": 41,
      "outputs": [
        {
          "output_type": "stream",
          "text": [
            "Accuracy: 0.8323353293413174\n",
            "Classification report:\n",
            "                precision    recall  f1-score   support\n",
            "\n",
            "     business       0.82      0.78      0.80       164\n",
            "entertainment       0.84      0.81      0.82       113\n",
            "     politics       0.77      0.82      0.79       113\n",
            "        sport       0.87      0.90      0.89       146\n",
            "         tech       0.86      0.86      0.86       132\n",
            "\n",
            "     accuracy                           0.83       668\n",
            "    macro avg       0.83      0.83      0.83       668\n",
            " weighted avg       0.83      0.83      0.83       668\n",
            "\n"
          ],
          "name": "stdout"
        }
      ]
    },
    {
      "cell_type": "code",
      "metadata": {
        "id": "bv4s_DyW6vIg",
        "outputId": "b4d2cdc5-42b8-45a0-e6ad-20aee5e98382",
        "colab": {
          "base_uri": "https://localhost:8080/",
          "height": 272
        }
      },
      "source": [
        "from sklearn.ensemble import VotingClassifier\n",
        "\n",
        "base_classifiers = [('LogisticRegression', LogisticRegression(random_state=42)),\n",
        "                    ('LinearSVC', LinearSVC(random_state=42)),\n",
        "                    ('DecisionTree', DecisionTreeClassifier())]\n",
        "\n",
        "clf_vote = VotingClassifier(estimators=base_classifiers, \n",
        "                            voting='soft', weights = [2,3,1]) \n",
        "clf_vote = Pipeline([('vect', tfidf),\n",
        "                ('clf', clf_vote)])\n",
        "clf_vote.fit(X_train, y_train)\n",
        "print('Accuracy:', accuracy_score(y_test,predictions))\n",
        "print('Classification report:\\n', classification_report(y_test,predictions))"
      ],
      "execution_count": 51,
      "outputs": [
        {
          "output_type": "stream",
          "text": [
            "Accuracy: 0.9760479041916168\n",
            "Classification report:\n",
            "                precision    recall  f1-score   support\n",
            "\n",
            "     business       0.97      0.94      0.96       164\n",
            "entertainment       0.97      0.98      0.98       113\n",
            "     politics       0.96      0.98      0.97       113\n",
            "        sport       0.99      1.00      0.99       146\n",
            "         tech       0.98      0.98      0.98       132\n",
            "\n",
            "     accuracy                           0.98       668\n",
            "    macro avg       0.98      0.98      0.98       668\n",
            " weighted avg       0.98      0.98      0.98       668\n",
            "\n"
          ],
          "name": "stdout"
        }
      ]
    },
    {
      "cell_type": "code",
      "metadata": {
        "id": "Owq5p-du8k0G"
      },
      "source": [
        ""
      ],
      "execution_count": null,
      "outputs": []
    }
  ]
}